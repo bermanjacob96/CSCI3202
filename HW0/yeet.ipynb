{
 "cells": [
  {
   "cell_type": "code",
   "execution_count": 74,
   "metadata": {},
   "outputs": [
    {
     "name": "stdout",
     "output_type": "stream",
     "text": [
      "Error!\n",
      "None\n",
      "['apple', 'banana', 'cherry', 'apple', 'banana', 'cherry']\n",
      "['apple', 'banana', 'cherry']3\n",
      "123abc\n",
      "3abc\n"
     ]
    }
   ],
   "source": [
    "def add(a,b):\n",
    "    if (type(a) is float or type(a) is int or type(a) is list or type(a) is str) and (type(b) is float or type(b) is int or type(b) is list or type(b) is str):\n",
    "        if (type(a) is float or type(a) is int) and (type(b) is float or type(b) is int):\n",
    "            x = a + b\n",
    "        if type(a) is list and type(b) is list:\n",
    "            x = a + b\n",
    "        if type(a) != type(b):\n",
    "            a = str(a)\n",
    "            b = str(b)\n",
    "            x = a + b \n",
    "    else:\n",
    "        print(\"Error!\")\n",
    "        return\n",
    "    return x\n",
    "islist = [\"apple\", \"banana\", \"cherry\"]\n",
    "print(add(type(True),3))\n",
    "print(add(islist,islist))\n",
    "print(add(islist,3))\n",
    "print(add(123,\"abc\"))\n",
    "print(add(3,\"abc\"))\n",
    "\n"
   ]
  },
  {
   "cell_type": "code",
   "execution_count": 52,
   "metadata": {},
   "outputs": [
    {
     "data": {
      "text/plain": [
       "0.8133333333333334"
      ]
     },
     "execution_count": 52,
     "metadata": {},
     "output_type": "execute_result"
    }
   ],
   "source": [
    "def calcMyGrade(a_S,m_S,p_S,w):\n",
    "    a_v = sum(a_S)/(len(a_S)*100)\n",
    "    m_v = (sum(m_S)/(len(m_S)*100))\n",
    "    p_v = (sum(p_S)/(len(p_S)*100))\n",
    "    a_w = (a_v*(w[0]))\n",
    "    m_w = (m_v*(w[1]))\n",
    "    p_w = (p_v*(w[2]))\n",
    "    w_avg = ((a_w+m_w+p_w))\n",
    "    return w_avg\n",
    "aS = [100, 50, 100]\n",
    "mS = [70]\n",
    "pS = [90]\n",
    "wS = [.70,.20,.10]\n",
    "calcMyGrade(aS,mS,pS,wS)"
   ]
  },
  {
   "cell_type": "code",
   "execution_count": 75,
   "metadata": {},
   "outputs": [
    {
     "data": {
      "text/plain": [
       "0"
      ]
     },
     "execution_count": 75,
     "metadata": {},
     "output_type": "execute_result"
    }
   ],
   "source": [
    "class Node:\n",
    "    def __init__(self,key,value):\n",
    "        self.leftChild = []\n",
    "        self.rightChild = []\n",
    "        self.parent =\n",
    "        \n",
    "        None\n",
    "        self.key = key\n",
    "        self.value = value\n",
    "    def getChildren(self):\n",
    "        children = [] \n",
    "        return children[self.leftchild, self.rightchild]\n",
    "    def getKey(self):\n",
    "        return self.key\n",
    "    \n",
    "n = Node(0, 10)\n",
    "n.getKey()"
   ]
  },
  {
   "cell_type": "code",
   "execution_count": 10,
   "metadata": {},
   "outputs": [
    {
     "name": "stdout",
     "output_type": "stream",
     "text": [
      "3\n"
     ]
    }
   ],
   "source": [
    "class Queue:\n",
    "    def __init__(self):\n",
    "        self.items = []\n",
    "    def push(self, items):\n",
    "        self.items.insert(0,items)\n",
    "    def pop(self):\n",
    "        return self.items.pop()\n",
    "    def checkSize(self):\n",
    "        return len(self.items)\n",
    "    \n",
    "q = Queue()\n",
    "\n",
    "q.push(4)\n",
    "q.push('dog')\n",
    "q.push(True)\n",
    "print(q.checkSize())"
   ]
  },
  {
   "cell_type": "code",
   "execution_count": 9,
   "metadata": {},
   "outputs": [
    {
     "data": {
      "text/plain": [
       "array([[5, 0],\n",
       "       [3, 3]])"
      ]
     },
     "execution_count": 9,
     "metadata": {},
     "output_type": "execute_result"
    }
   ],
   "source": [
    "import numpy as np\n",
    "def generateMatrix(r,c,min_val,max_val):\n",
    "    np.random.seed(0)\n",
    "    #your code below\n",
    "    x = np.random.randint(min_val, max_val, size=(r,c))\n",
    "    return x\n",
    "\n",
    "generateMatrix(2,2,0,10)"
   ]
  },
  {
   "cell_type": "code",
   "execution_count": 240,
   "metadata": {},
   "outputs": [
    {
     "data": {
      "text/plain": [
       "array([[25,  0],\n",
       "       [24,  9]])"
      ]
     },
     "execution_count": 240,
     "metadata": {},
     "output_type": "execute_result"
    }
   ],
   "source": [
    "import numpy as np\n",
    "def multiplyMat(x1, x2):\n",
    "    x = np.matmul(x1, x2)\n",
    "    return x\n",
    "\n",
    "\n",
    "\n",
    "\n",
    "0..\n",
    "00000\n",
    "x1 = ([[5, 0],\n",
    "       [3, 3]])\n",
    "x2 = ([[5, 0],\n",
    "       [3, 3]])\n",
    "multiplyMat(x1, x2)"
   ]
  },
  {
   "cell_type": "code",
   "execution_count": 26,
   "metadata": {},
   "outputs": [
    {
     "data": {
      "text/plain": [
       "(5, 2.5, 0, 5, 5, 2.5, 0, 5, 1.0, 0.99999999999999989)"
      ]
     },
     "execution_count": 26,
     "metadata": {},
     "output_type": "execute_result"
    }
   ],
   "source": [
    "import numpy as np\n",
    "from scipy.stats import pearsonr,spearmanr\n",
    "def statsTuple(a,b):\n",
    "    corr1, p_value = pearsonr(a, b) \n",
    "    corr2, p_value = spearmanr(a, b)\n",
    "    return(np.sum(a), np.mean(a), np.min(a), np.max(a), np.sum(b), np.mean(b), np.min(b), np.max(b), corr1, corr2)\n",
    "\n",
    "a = [5, 0]\n",
    "b = [5, 0]\n",
    "statsTuple(a,b)"
   ]
  },
  {
   "cell_type": "code",
   "execution_count": 6,
   "metadata": {},
   "outputs": [
    {
     "data": {
      "text/plain": [
       "([5.67, 3.05, 3.84, 1.24], ['class', 'beep'])"
      ]
     },
     "execution_count": 6,
     "metadata": {},
     "output_type": "execute_result"
    }
   ],
   "source": [
    "import pandas as pd\n",
    "import numpy as np\n",
    "\n",
    "def pandas_func(file_name):\n",
    "    ListOfMeans = []\n",
    "    ListOfColumnNames = []\n",
    "    df = pd.read_csv(file_name, sep='\\t')\n",
    "    for column in df:\n",
    "        if df[column].dtype == np.number:\n",
    "            dfToListMeans = df[column].tolist()\n",
    "            #dfToListMeans = [ round(elem, 2) for elem in dfToListMeans]\n",
    "            y = sum(dfToListMeans)\n",
    "            x = len(dfToListMeans)\n",
    "            mean = sum(dfToListMeans) / len(dfToListMeans)\n",
    "            mean = round(mean, 2)\n",
    "            ListOfMeans.append(mean)\n",
    "        else:\n",
    "            None     \n",
    "    mylisty = df.select_dtypes(include=[np.number])\n",
    "    ListofMeans = list(mylisty)\n",
    "\n",
    "    mylist = df.select_dtypes(exclude=[np.number])\n",
    "    ListofColumnNames = list(mylist)\n",
    "    return(ListOfMeans,ListofColumnNames)\n",
    "        \n",
    "pandas_func('test.txt')"
   ]
  },
  {
   "cell_type": "code",
   "execution_count": 18,
   "metadata": {},
   "outputs": [
    {
     "data": {
      "text/plain": [
       "([5.67, 3.05, 3.84, 1.24], ['class', 'beep'])"
      ]
     },
     "execution_count": 18,
     "metadata": {},
     "output_type": "execute_result"
    }
   ],
   "source": [
    "import pandas as pd\n",
    "import numpy as np\n",
    "\n",
    "def pandas_func(file_name):\n",
    "    ListOfMeans = []\n",
    "    ListOfColumnNames = []\n",
    "    df = pd.read_csv(file_name, sep='\\t')\n",
    "    \n",
    "    mylisty = df.select_dtypes(include=[np.number])\n",
    "    for column in mylisty:\n",
    "        dfToListMeans = mylisty[column].tolist()\n",
    "        mean = sum(dfToListMeans) / len(dfToListMeans)\n",
    "        mean = round(mean, 2)\n",
    "        ListOfMeans.append(mean)\n",
    "    mylist = df.select_dtypes(exclude=[np.number])\n",
    "    ListofColumnNames = list(mylist)\n",
    "    return(ListOfMeans,ListofColumnNames)\n",
    "pandas_func('test.txt')"
   ]
  },
  {
   "cell_type": "code",
   "execution_count": null,
   "metadata": {
    "collapsed": true
   },
   "outputs": [],
   "source": []
  },
  {
   "cell_type": "code",
   "execution_count": null,
   "metadata": {
    "collapsed": true
   },
   "outputs": [],
   "source": []
  }
 ],
 "metadata": {
  "kernelspec": {
   "display_name": "Python 3",
   "language": "python",
   "name": "python3"
  },
  "language_info": {
   "codemirror_mode": {
    "name": "ipython",
    "version": 3
   },
   "file_extension": ".py",
   "mimetype": "text/x-python",
   "name": "python",
   "nbconvert_exporter": "python",
   "pygments_lexer": "ipython3",
   "version": "3.6.1"
  }
 },
 "nbformat": 4,
 "nbformat_minor": 2
}
